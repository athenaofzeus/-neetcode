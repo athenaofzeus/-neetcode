{
 "cells": [
  {
   "cell_type": "markdown",
   "id": "98a3b837-d62f-480e-b47b-551cb0c22e25",
   "metadata": {},
   "source": [
    "### Group Anagrams"
   ]
  },
  {
   "cell_type": "markdown",
   "id": "83db1fca-2a0d-41cd-b107-b2438a54e2c2",
   "metadata": {},
   "source": [
    "Given an array of strings strs, group all anagrams together into sublists. You may return the output in any order."
   ]
  },
  {
   "cell_type": "code",
   "execution_count": 1,
   "id": "556e3e95-ef55-4772-b6e5-d34bd790f907",
   "metadata": {},
   "outputs": [],
   "source": [
    "def groupAnagrams(strs):\n",
    "    #создаем отсортированные по алфавиту строки\n",
    "    sorted_words = []\n",
    "    for i, word in enumerate(strs):\n",
    "        sort_word = ''.join(sorted(word))\n",
    "        sorted_words.append(sort_word)\n",
    "\n",
    "    # создаем словарь {строка : [индексы этой строки]}\n",
    "    indices = {}\n",
    "    for index, value in enumerate(sorted_words):\n",
    "        if value not in indices:\n",
    "            indices[value] = []  # Создаём пустой список для нового элемента\n",
    "        indices[value].append(index)  # Добавляем индекс\n",
    "    # print(indices)\n",
    "    \n",
    "    # Собираем элементы по индексам в подмассивы в исходном массиве\n",
    "    result = []\n",
    "    for value, idx_list in indices.items():\n",
    "        sublist = [strs[i] for i in idx_list]\n",
    "        result.append(sublist)\n",
    "\n",
    "    return result\n",
    "        "
   ]
  },
  {
   "cell_type": "code",
   "execution_count": 2,
   "id": "b7ae1922-3547-41db-a0dd-600b3c81bd0d",
   "metadata": {},
   "outputs": [
    {
     "data": {
      "text/plain": [
       "[['act', 'cat'], ['pots', 'tops', 'stop'], ['hat']]"
      ]
     },
     "execution_count": 2,
     "metadata": {},
     "output_type": "execute_result"
    }
   ],
   "source": [
    "groupAnagrams([\"act\",\"pots\",\"tops\",\"cat\",\"stop\",\"hat\"])"
   ]
  },
  {
   "cell_type": "code",
   "execution_count": 3,
   "id": "a2d07c34-79c4-4252-8f34-f0a95689fbb2",
   "metadata": {},
   "outputs": [
    {
     "data": {
      "text/plain": [
       "[['x']]"
      ]
     },
     "execution_count": 3,
     "metadata": {},
     "output_type": "execute_result"
    }
   ],
   "source": [
    "groupAnagrams([\"x\"])"
   ]
  },
  {
   "cell_type": "markdown",
   "id": "40448f39-4b8e-4c35-b79e-3d9bc76515b3",
   "metadata": {},
   "source": [
    "### Top K Frequent Elements"
   ]
  },
  {
   "cell_type": "markdown",
   "id": "1400cde4-6ccc-4841-b4b9-72958a398c63",
   "metadata": {},
   "source": [
    "Given an integer array nums and an integer k, return the k most frequent elements within the array.\n",
    "\n",
    "The test cases are generated such that the answer is always unique."
   ]
  },
  {
   "cell_type": "code",
   "execution_count": 4,
   "id": "f04f455b-aaf6-45cd-9e4b-26d3fb9954b2",
   "metadata": {},
   "outputs": [],
   "source": [
    "from collections import Counter\n",
    "def freq(nums, k):\n",
    "    count = Counter(nums)\n",
    "    # most_common(k) возвращает кортеж (число, его частность) - нужно достать первый элемент\n",
    "    elements = [item for item, freq in count.most_common(k)]\n",
    "    return elements"
   ]
  },
  {
   "cell_type": "code",
   "execution_count": 5,
   "id": "44a98d95-2e0c-473d-ba6f-eac17ec7476d",
   "metadata": {},
   "outputs": [
    {
     "data": {
      "text/plain": [
       "[2, 3]"
      ]
     },
     "execution_count": 5,
     "metadata": {},
     "output_type": "execute_result"
    }
   ],
   "source": [
    "freq([1,2,2,2,2,2,3,3,3], 2)"
   ]
  },
  {
   "cell_type": "code",
   "execution_count": 6,
   "id": "dce9d545-74af-4f38-85bd-534ba0bf02b9",
   "metadata": {},
   "outputs": [
    {
     "data": {
      "text/plain": [
       "[7]"
      ]
     },
     "execution_count": 6,
     "metadata": {},
     "output_type": "execute_result"
    }
   ],
   "source": [
    "freq([7,7], 1)"
   ]
  },
  {
   "cell_type": "markdown",
   "id": "f26f2455-a531-4ffa-98e5-ec9a67a4cf89",
   "metadata": {},
   "source": [
    "### Encode and Decode Strings"
   ]
  },
  {
   "cell_type": "markdown",
   "id": "7cb28057-1c12-4b0c-b7bd-6760ca26daf5",
   "metadata": {},
   "source": [
    "Design an algorithm to encode a list of strings to a single string. The encoded string is then decoded back to the original list of strings."
   ]
  },
  {
   "cell_type": "code",
   "execution_count": 7,
   "id": "363cd1f5-25fc-4a96-83ac-aece4cd9fd9c",
   "metadata": {},
   "outputs": [],
   "source": [
    "class Solution:\n",
    "    def encode(strs):\n",
    "        s = '**'.join(strs)\n",
    "        return s\n",
    "    def decode(s):\n",
    "        s = s.split('**')\n",
    "        return s"
   ]
  },
  {
   "cell_type": "code",
   "execution_count": 8,
   "id": "85bf01de-bcf2-4869-8235-34e6976273fa",
   "metadata": {},
   "outputs": [],
   "source": [
    "encode = Solution.encode([\"neet\",\"code\",\"love\",\"you\"])"
   ]
  },
  {
   "cell_type": "code",
   "execution_count": 9,
   "id": "370923f4-5de3-426d-8c85-9bd0e594d70c",
   "metadata": {},
   "outputs": [
    {
     "data": {
      "text/plain": [
       "['neet', 'code', 'love', 'you']"
      ]
     },
     "execution_count": 9,
     "metadata": {},
     "output_type": "execute_result"
    }
   ],
   "source": [
    "Solution.decode(encode)"
   ]
  },
  {
   "cell_type": "code",
   "execution_count": 10,
   "id": "af8733e3-6b17-4074-86e2-df425a7610f2",
   "metadata": {},
   "outputs": [
    {
     "data": {
      "text/plain": [
       "''"
      ]
     },
     "execution_count": 10,
     "metadata": {},
     "output_type": "execute_result"
    }
   ],
   "source": [
    "encode = Solution.encode([])\n",
    "encode"
   ]
  },
  {
   "cell_type": "code",
   "execution_count": 11,
   "id": "70ca5e42-4220-4100-93f9-24107889250d",
   "metadata": {},
   "outputs": [
    {
     "data": {
      "text/plain": [
       "['']"
      ]
     },
     "execution_count": 11,
     "metadata": {},
     "output_type": "execute_result"
    }
   ],
   "source": [
    "Solution.decode(encode)"
   ]
  },
  {
   "cell_type": "markdown",
   "id": "0719ce31-5a69-48ab-92ba-7f10f5244302",
   "metadata": {},
   "source": [
    "### Products of Array Except Self"
   ]
  },
  {
   "cell_type": "markdown",
   "id": "9c10b5b6-c802-434f-aac5-004b6b2e4e4d",
   "metadata": {},
   "source": [
    "Given an integer array nums, return an array output where output[i] is the product of all the elements of nums except nums[i]."
   ]
  },
  {
   "cell_type": "markdown",
   "id": "a3de9cc0-dbe7-4a88-aea3-a445890b0329",
   "metadata": {},
   "source": [
    "**Идея: для 0 в массиве пересоздавать массив без 0** <br>\n",
    "есть три варианта:\n",
    "1. массив без 0\n",
    "2. массив с одним 0 - вот тут нужно пересоздать\n",
    "3. массив с несколькими 0 - тут смысла нет - все нули"
   ]
  },
  {
   "cell_type": "code",
   "execution_count": 3,
   "id": "f2e5067b-7499-400b-b2de-342168516e72",
   "metadata": {},
   "outputs": [],
   "source": [
    "import math\n",
    "def prodArr(nums):\n",
    "    arr = []\n",
    "    arr_one_zero = []\n",
    "    arr_few_zero = []\n",
    "    # случай, когда нет 0\n",
    "    if 0 not in nums:\n",
    "        for i in nums:\n",
    "            p = math.prod(nums) / i\n",
    "            arr.append(int(p))\n",
    "            \n",
    "    # случаи, когда 0 есть\n",
    "    else:\n",
    "        count_zero = 0\n",
    "        # считаем, сколько нулей:\n",
    "        for i in nums:\n",
    "            if i == 0:\n",
    "                count_zero+=1\n",
    "\n",
    "        no_zero_nums = []\n",
    "        # разбираем каждый отдельно\n",
    "        if count_zero == 1:\n",
    "            for i in nums:\n",
    "                if i != 0:\n",
    "                    p = math.prod(nums) / i\n",
    "                    arr_one_zero.append(int(p))\n",
    "                else:\n",
    "                    no_zero_nums = nums.copy()\n",
    "                    no_zero_nums.remove(0)\n",
    "                    p = math.prod(no_zero_nums)\n",
    "                    arr_one_zero.append(int(p))\n",
    "        if count_zero > 1:\n",
    "            for i in nums:\n",
    "                arr_few_zero.append(0)\n",
    "    return arr or arr_one_zero or arr_few_zero"
   ]
  },
  {
   "cell_type": "code",
   "execution_count": 5,
   "id": "ce6c1a3d-96a3-4bc2-b0a7-bbc0751bb063",
   "metadata": {},
   "outputs": [
    {
     "data": {
      "text/plain": [
       "[48, 24, 12, 8]"
      ]
     },
     "execution_count": 5,
     "metadata": {},
     "output_type": "execute_result"
    }
   ],
   "source": [
    "prodArr([1,2,4,6])"
   ]
  },
  {
   "cell_type": "code",
   "execution_count": 6,
   "id": "44b6d302-a758-4ffc-bb95-0436a4b8cea8",
   "metadata": {},
   "outputs": [
    {
     "data": {
      "text/plain": [
       "[0, 0, 0, 0]"
      ]
     },
     "execution_count": 6,
     "metadata": {},
     "output_type": "execute_result"
    }
   ],
   "source": [
    "prodArr([-1,0,1,2,3])"
   ]
  },
  {
   "cell_type": "code",
   "execution_count": 5,
   "id": "68e41542-da30-45cf-a87c-c1e243fe3fe2",
   "metadata": {},
   "outputs": [
    {
     "data": {
      "text/plain": [
       "[0, -6, 0, 0, 0]"
      ]
     },
     "execution_count": 5,
     "metadata": {},
     "output_type": "execute_result"
    }
   ],
   "source": [
    "prodArr([-1,0,1,2,3])"
   ]
  },
  {
   "cell_type": "code",
   "execution_count": null,
   "id": "0a98de50-d232-4ca0-989a-89ea57662cc2",
   "metadata": {},
   "outputs": [],
   "source": []
  }
 ],
 "metadata": {
  "kernelspec": {
   "display_name": "Python [conda env:base] *",
   "language": "python",
   "name": "conda-base-py"
  },
  "language_info": {
   "codemirror_mode": {
    "name": "ipython",
    "version": 3
   },
   "file_extension": ".py",
   "mimetype": "text/x-python",
   "name": "python",
   "nbconvert_exporter": "python",
   "pygments_lexer": "ipython3",
   "version": "3.12.7"
  }
 },
 "nbformat": 4,
 "nbformat_minor": 5
}
