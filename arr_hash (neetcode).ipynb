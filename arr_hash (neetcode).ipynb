{
 "cells": [
  {
   "cell_type": "markdown",
   "id": "98c14234-402c-4ffe-9d66-ad76cb8f94fe",
   "metadata": {},
   "source": [
    "### Contains Duplicate"
   ]
  },
  {
   "cell_type": "markdown",
   "id": "037deeaa-d478-4615-b8e2-729c10ef045e",
   "metadata": {},
   "source": [
    "Given an integer array nums, return **true** if any value appears more than once in the array, otherwise return **false**."
   ]
  },
  {
   "cell_type": "code",
   "execution_count": 4,
   "id": "a9428a35-e989-4b82-b49a-c68a360e1e54",
   "metadata": {},
   "outputs": [],
   "source": [
    "def dupl(nums):\n",
    "    set_ar = len(set(nums))\n",
    "    if set_ar < len(nums):\n",
    "        return True\n",
    "    else:\n",
    "        return False"
   ]
  },
  {
   "cell_type": "code",
   "execution_count": 5,
   "id": "aa290d0f-c08a-4202-a700-d1073fed3064",
   "metadata": {},
   "outputs": [
    {
     "data": {
      "text/plain": [
       "False"
      ]
     },
     "execution_count": 5,
     "metadata": {},
     "output_type": "execute_result"
    }
   ],
   "source": [
    "dupl([4, 5, 10, 1])"
   ]
  },
  {
   "cell_type": "code",
   "execution_count": 6,
   "id": "09ca7352-69e0-4a97-a89f-be3e8c111798",
   "metadata": {},
   "outputs": [
    {
     "data": {
      "text/plain": [
       "True"
      ]
     },
     "execution_count": 6,
     "metadata": {},
     "output_type": "execute_result"
    }
   ],
   "source": [
    "dupl([8, 9, 0, 9, 7])"
   ]
  },
  {
   "cell_type": "markdown",
   "id": "adf166eb-78a2-4f96-84a1-b258514747bd",
   "metadata": {},
   "source": [
    "### Valid Anagram"
   ]
  },
  {
   "cell_type": "markdown",
   "id": "81706d22-69dc-4091-ba1e-e87625c92e45",
   "metadata": {},
   "source": [
    "Given two strings *s* and *t*, return **true** if the two strings are anagrams of each other, otherwise return **false**.\n",
    "\n",
    "An anagram is a string that contains the exact same characters as another string, but the order of the characters can be different."
   ]
  },
  {
   "cell_type": "markdown",
   "id": "55fb0fa8-fb29-42c4-ae67-22cb9f3b50a7",
   "metadata": {},
   "source": [
    "<div class=\"alert-warning\">Менее удачное решение из-за сложности = O(n log n)</div>"
   ]
  },
  {
   "cell_type": "code",
   "execution_count": 7,
   "id": "8e0eac9b-1345-46d2-995f-72c5c4102bdf",
   "metadata": {},
   "outputs": [],
   "source": [
    "def anagram(s, t):\n",
    "    s_sorted = sorted(s)\n",
    "    t_sorted = sorted(t)\n",
    "    if s_sorted == t_sorted:\n",
    "        return True\n",
    "    else:\n",
    "        return False"
   ]
  },
  {
   "cell_type": "markdown",
   "id": "e9705035-1a41-4cd3-a5aa-6486a6a9adcb",
   "metadata": {},
   "source": [
    "<div class=\"alert-success\">\n",
    "Более удочный вариант O(n), но тредуется память для хранения словаря = O(k)б где k - кол-во ключей</div>"
   ]
  },
  {
   "cell_type": "code",
   "execution_count": 74,
   "id": "987aee97-2df1-45de-8156-811f8339efb9",
   "metadata": {},
   "outputs": [],
   "source": [
    "from collections import Counter\n",
    "def anagram(s, t):\n",
    "    num_s = Counter(s)\n",
    "    num_t = Counter(t)\n",
    "    if num_s == num_t:\n",
    "        return True\n",
    "    else:\n",
    "        return False"
   ]
  },
  {
   "cell_type": "code",
   "execution_count": 36,
   "id": "44d7e767-b4ce-40a5-b5f8-c908540edcef",
   "metadata": {},
   "outputs": [
    {
     "data": {
      "text/plain": [
       "True"
      ]
     },
     "execution_count": 36,
     "metadata": {},
     "output_type": "execute_result"
    }
   ],
   "source": [
    "anagram('heat', 'thea')"
   ]
  },
  {
   "cell_type": "code",
   "execution_count": 37,
   "id": "21132603-1d9b-4f0b-8196-db1d75ca344f",
   "metadata": {},
   "outputs": [
    {
     "data": {
      "text/plain": [
       "False"
      ]
     },
     "execution_count": 37,
     "metadata": {},
     "output_type": "execute_result"
    }
   ],
   "source": [
    "anagram('heart', 'hear')"
   ]
  },
  {
   "cell_type": "markdown",
   "id": "824dc541-8f74-4ab9-b9eb-8d598cf8e196",
   "metadata": {},
   "source": [
    "### Two Sum"
   ]
  },
  {
   "cell_type": "markdown",
   "id": "b47d4eeb-91a1-4bbd-9e7a-472f949bf361",
   "metadata": {},
   "source": [
    "Given an array of integers nums and an integer target, return the **indices** i and j such that nums[i] + nums[j] == target and i != j."
   ]
  },
  {
   "cell_type": "markdown",
   "id": "6fbc9af1-23a3-4f8f-a3e2-1255bdc36fa0",
   "metadata": {},
   "source": [
    "<div class=\"alert-warning\">Слишком высокая сложность = O(n^2)</div>"
   ]
  },
  {
   "cell_type": "code",
   "execution_count": 68,
   "id": "0f005ddb-a03e-4e42-af6c-82695d6a0460",
   "metadata": {},
   "outputs": [],
   "source": [
    "def twoSum(nums, target):\n",
    "    for i in range(len(nums) - 1):\n",
    "        for j in range(i, len(nums)):\n",
    "            if nums[i] + nums[j] == target:\n",
    "                return i, j"
   ]
  },
  {
   "cell_type": "code",
   "execution_count": 71,
   "id": "93511ad1-76eb-4bb3-940f-82feac374fa5",
   "metadata": {},
   "outputs": [
    {
     "data": {
      "text/plain": [
       "(0, 2)"
      ]
     },
     "execution_count": 71,
     "metadata": {},
     "output_type": "execute_result"
    }
   ],
   "source": [
    "twoSum([1, 5, 2, 4], 3)"
   ]
  },
  {
   "cell_type": "markdown",
   "id": "c6f71a3c-e20e-4464-8bbe-9e2bac9836d8",
   "metadata": {},
   "source": [
    "<div class=\"alert-success\">Понизим сложность до O(n)</div>"
   ]
  },
  {
   "cell_type": "code",
   "execution_count": 106,
   "id": "907a3db4-e7f2-4b5c-9d56-beddf3ce3bb9",
   "metadata": {},
   "outputs": [],
   "source": [
    "def twoSum(nums, target):\n",
    "    d = {}\n",
    "    # перебираем сразу индексы и значения\n",
    "    for i, s in enumerate(nums):\n",
    "        # сохраняем значения именно в keys (ключи храянятся в хэш-таблице)\n",
    "        d[s] = i\n",
    "        # print(d)\n",
    "        dif = target - s\n",
    "        # проверяем, есть ли разность среди ключей словаря (среди значений)\n",
    "        if dif in d:\n",
    "            # если есть, то возвращаем value словаря (а это индекс) и индекс исходного числа\n",
    "            return [d[dif], i]"
   ]
  },
  {
   "cell_type": "code",
   "execution_count": 107,
   "id": "716e4336-8362-49b2-bc36-cc419d97fdb6",
   "metadata": {},
   "outputs": [
    {
     "data": {
      "text/plain": [
       "[0, 2]"
      ]
     },
     "execution_count": 107,
     "metadata": {},
     "output_type": "execute_result"
    }
   ],
   "source": [
    "twoSum([1, 5, 2, 4], 3)"
   ]
  },
  {
   "cell_type": "code",
   "execution_count": null,
   "id": "5314f1b4-fd9d-40e3-9ff9-a728f3b43b48",
   "metadata": {},
   "outputs": [],
   "source": []
  }
 ],
 "metadata": {
  "kernelspec": {
   "display_name": "Python [conda env:base] *",
   "language": "python",
   "name": "conda-base-py"
  },
  "language_info": {
   "codemirror_mode": {
    "name": "ipython",
    "version": 3
   },
   "file_extension": ".py",
   "mimetype": "text/x-python",
   "name": "python",
   "nbconvert_exporter": "python",
   "pygments_lexer": "ipython3",
   "version": "3.12.7"
  }
 },
 "nbformat": 4,
 "nbformat_minor": 5
}
